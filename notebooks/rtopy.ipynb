{
 "cells": [
  {
   "cell_type": "code",
   "execution_count": 1,
   "metadata": {
    "collapsed": false
   },
   "outputs": [],
   "source": [
    "import inspect\n",
    "import logging\n",
    "logging.root.setLevel(logging.DEBUG)\n",
    "\n",
    "import rpy2.robjects\n",
    "import rpy2.robjects.pandas2ri\n",
    "import rpy2.robjects.numpy2ri\n",
    "import rpy2.robjects.conversion \n",
    "from rpy2.robjects.conversion import Converter\n"
   ]
  },
  {
   "cell_type": "code",
   "execution_count": 2,
   "metadata": {
    "collapsed": false
   },
   "outputs": [],
   "source": [
    "code = \"\"\"\n",
    "data(iris)\n",
    "summary(lm(Sepal.Length ~ Petal.Width, iris))\n",
    "\"\"\"\n",
    "summaryA = rpy2.robjects.r(code)"
   ]
  },
  {
   "cell_type": "code",
   "execution_count": 3,
   "metadata": {
    "collapsed": false
   },
   "outputs": [],
   "source": [
    "low = Converter('low')\n",
    "high = Converter('high')\n",
    "\n",
    "from rpy2.robjects.vectors import ListVector, Vector\n",
    "from rpy2.rinterface import Sexp, SexpVector\n",
    "def Sexp_dict(robject):\n",
    "    res = {}\n",
    "    for i, (key, val) in enumerate(dict(robject.slots).items()):\n",
    "        # list/dict type\n",
    "        if key is None or isinstance(key, rpy2.rinterface.RNULLType) :\n",
    "            key = i\n",
    "        # try and update objects\n",
    "        try:\n",
    "            res[key] = rpy2.robjects.conversion.converter.ri2py(val)\n",
    "        except ValueError:\n",
    "            res[key] = val\n",
    "    return res\n",
    "\n",
    "\n",
    "def ListVector_dict(listvector):\n",
    "    res = {}\n",
    "    for i, (key, val) in enumerate(listvector.items()):\n",
    "        logging.debug('serializing: %s', key)\n",
    "        # list/dict type\n",
    "        if key is None or isinstance(key, rpy2.rinterface.RNULLType) :\n",
    "            key = i\n",
    "        # try and update objects\n",
    "        try:\n",
    "            logging.debug(\"serializing %s with: %s\", key, rpy2.robjects.conversion.converter.ri2py.dispatch(val.__class__))\n",
    "            res[key] = rpy2.robjects.conversion.converter.ri2py(val)\n",
    "        except ValueError:\n",
    "            logging.exception('could not convert: %s', key)\n",
    "            res[key] = val\n",
    "    return res\n",
    "def SexpVector_list(vector):\n",
    "    # don't lookup names (buggy)\n",
    "    res = []\n",
    "    for val in vector:\n",
    "        try:\n",
    "            res.append(rpy2.robjects.conversion.converter.ri2py(val))\n",
    "        except ValueError:\n",
    "            res.append(val)\n",
    "    return res\n",
    "\n",
    "    \n",
    "\n",
    "high.ri2py.register(SexpVector, SexpVector_list)\n",
    "high.ri2py.register(Sexp, Sexp_dict)\n",
    "high.ri2py.register(ListVector, ListVector_dict)\n",
    "\n",
    "\n",
    "new_converter =  high + rpy2.robjects.pandas2ri.converter + rpy2.robjects.numpy2ri.converter + rpy2.robjects.conversion.converter\n",
    "rpy2.robjects.conversion.set_conversion(new_converter)\n",
    "\n"
   ]
  },
  {
   "cell_type": "code",
   "execution_count": 4,
   "metadata": {
    "collapsed": false
   },
   "outputs": [
    {
     "name": "stderr",
     "output_type": "stream",
     "text": [
      "DEBUG:root:serializing: call\n",
      "DEBUG:root:serializing call with: <function ri2py_vector at 0x1089590d0>\n",
      "DEBUG:root:serializing: terms\n",
      "DEBUG:root:serializing terms with: <function ri2py_sexp at 0x108956510>\n",
      "DEBUG:root:serializing: residuals\n",
      "DEBUG:root:serializing residuals with: <function ri2py_vector at 0x1089590d0>\n",
      "DEBUG:root:serializing: coefficients\n",
      "DEBUG:root:serializing coefficients with: <function ri2py_vector at 0x1089590d0>\n",
      "DEBUG:root:serializing: aliased\n",
      "DEBUG:root:serializing aliased with: <function ri2py_vector at 0x1089590d0>\n",
      "DEBUG:root:serializing: sigma\n",
      "DEBUG:root:serializing sigma with: <function ri2py_vector at 0x1089590d0>\n",
      "DEBUG:root:serializing: df\n",
      "DEBUG:root:serializing df with: <function ri2py_intvector at 0x108959158>\n",
      "DEBUG:root:serializing: r.squared\n",
      "DEBUG:root:serializing r.squared with: <function ri2py_vector at 0x1089590d0>\n",
      "DEBUG:root:serializing: adj.r.squared\n",
      "DEBUG:root:serializing adj.r.squared with: <function ri2py_vector at 0x1089590d0>\n",
      "DEBUG:root:serializing: fstatistic\n",
      "DEBUG:root:serializing fstatistic with: <function ri2py_vector at 0x1089590d0>\n",
      "DEBUG:root:serializing: cov.unscaled\n",
      "DEBUG:root:serializing cov.unscaled with: <function ri2py_vector at 0x1089590d0>\n"
     ]
    }
   ],
   "source": [
    "code = \"\"\"\n",
    "data(iris)\n",
    "fit <- lm(Sepal.Length ~ Petal.Width, iris)\n",
    "summary(fit)\n",
    "\"\"\"\n",
    "summary = rpy2.robjects.r(code)\n"
   ]
  },
  {
   "cell_type": "code",
   "execution_count": 5,
   "metadata": {
    "collapsed": false
   },
   "outputs": [
    {
     "data": {
      "text/plain": [
       "'{\"fstatistic\": [299.16731206935555, 1.0, 148.0], \"sigma\": 0.477994753562429, \"adj.r.squared\": 0.6667913866278083, \"residuals\": [0.1446545336371695, -0.055345466362838304, -0.25534546636284033, -0.35534546636284087, 0.044654533637159474, 0.266938482875887, -0.4442034917434773, 0.044654533637159474, -0.5553454663628401, 0.03351255901779612, 0.44465453363715984, -0.15534546636284072, -0.06648744098220441, -0.5664874409822044, 0.8446545336371594, 0.5669384828758869, 0.266938482875887, 0.055796508256522714, 0.6557965082565232, 0.055796508256522714, 0.44465453363715984, -0.03306151712411369, -0.35534546636284087, -0.12191954250474997, -0.15534546636284072, 0.044654533637159474, -0.13306151712411335, 0.24465453363715964, 0.24465453363715964, -0.25534546636284033, -0.15534546636284072, 0.266938482875887, 0.3335125590177959, 0.5446545336371595, -0.05534546636284018, 0.044654533637159474, 0.5446545336371595, 0.03351255901779612, -0.5553454663628401, 0.1446545336371591, -0.04420349174347693, -0.5442034917434769, -0.5553454663628401, -0.31077756788538596, -0.03306151712411369, -0.2442034917434771, 0.1446545336371591, -0.35534546636284087, 0.3446545336371593, 0.044654533637159474, 0.978358229069523, 0.28950020368888685, 0.7895002036888868, -0.4327837455498407, 0.3895002036888865, -0.23278374554984058, 0.10064217830824988, -0.7662096694079311, 0.667216254450159, -0.8216417709304769, -0.6662096694079315, -0.21049979631111315, 0.3337903305920685, 0.07835822906952261, -0.3327837455498411, 0.6783582290695231, -0.5104997963111139, 0.13379033059206827, 0.08950020368888668, -0.15506769478856838, -0.4770738724530223, 0.1672162544501589, 0.18950020368888632, 0.2560742798307954, 0.46721625445015963, 0.5783582290695226, 0.7783582290695228, 0.41178415292761394, -0.1104997963111135, 0.03379033059206862, -0.25506769478856806, -0.16620966940793158, -0.04392572016920448, -0.19935782169174995, -0.7104997963111132, -0.19935782169174995, 0.5895002036888867, 0.3672162544501591, -0.3327837455498411, -0.4327837455498407, -0.3439257201692043, 0.07835822906952261, -0.04392572016920448, -0.6662096694079315, -0.3327837455498411, -0.1439257201692041, -0.23278374554984058, 0.26721625445015945, -0.6550676947885683, -0.23278374554984058, -0.6990800501174775, -0.665931897833659, 0.4563520514050678, -0.07707387245302282, -0.23250597397556827, 0.9563520514050678, -1.388215847072386, 0.9229261275469772, 0.3229261275469775, 0.20091994988252282, -0.05478992321429534, -0.06593189783365858, 0.15635205140506794, -0.8547899232142951, -1.110222024736841, -0.421363999356204, 0.12292612754697736, 0.967494026024432, 0.8786360006437959, -0.1104997963111135, 0.07863600064379603, -0.9547899232142957, 1.1452100767857047, -0.07707387245302282, 0.05635205140506832, 0.8229261275469776, -0.17707387245302247, -0.277073872453023, -0.2436479485949315, 1.0006421783082502, 0.9340681021663415, 1.345210076785705, -0.3325059739755679, 0.18950020368888632, 0.07835822906952261, 0.8786360006437959, -0.610222024736841, 0.022926127546977707, -0.37707387245302265, 0.2563520514050685, -0.21022202473684068, 0.07863600064379603, -0.665931897833659, -0.021363999356204512, -0.2990800501174772, -0.12136399935620416, -0.16593189783365914, -0.05478992321429534, -0.6213639993562041, -0.4770738724530223], \"terms\": {\"robj\": \"<RObject - Python:0x1032f2e48 / R:0x7ff92b2c9a70>\"}, \"call\": {\"robj\": \"<Vector - Python:0x10336db08 / R:0x7ff92b342790>\\\\n[RNULLType, Vector, Vector]\"}, \"r.squared\": 0.6690276860464137, \"coefficients\": [[4.777629415601568, 0.07293476379886978, 65.50551707792881, 3.340431161987524e-111], [0.8885802538063636, 0.05137355130888257, 17.296453742584205, 2.325498079793244e-37]], \"df\": [2, 148, 2], \"cov.unscaled\": [[0.023282140296592594, -0.013853924649743679], [-0.013853924649743679, 0.011551354627357149]], \"aliased\": [0, 0]}'"
      ]
     },
     "execution_count": 5,
     "metadata": {},
     "output_type": "execute_result"
    }
   ],
   "source": [
    "import json\n",
    "import numpy as np\n",
    "def encode_difficult(obj):\n",
    "    if isinstance(obj, (np.ndarray,)):\n",
    "        # if it's just a scalar\n",
    "        if not np.squeeze(obj).ndim:\n",
    "            return np.squeeze(obj).item()\n",
    "        return obj.tolist()\n",
    "    elif isinstance(obj, (rpy2.rinterface.Sexp, )):\n",
    "        return {'robj': repr(obj)}\n",
    "    raise TypeError(\"%r not serializable\" % (obj, ))\n",
    "json.dumps(summary, default=encode_difficult)"
   ]
  },
  {
   "cell_type": "code",
   "execution_count": 6,
   "metadata": {
    "collapsed": false
   },
   "outputs": [
    {
     "data": {
      "text/plain": [
       "array(0.6667913866278083)"
      ]
     },
     "execution_count": 6,
     "metadata": {},
     "output_type": "execute_result"
    }
   ],
   "source": [
    "np.squeeze(summary['adj.r.squared'])"
   ]
  },
  {
   "cell_type": "code",
   "execution_count": null,
   "metadata": {
    "collapsed": true
   },
   "outputs": [],
   "source": []
  }
 ],
 "metadata": {
  "kernelspec": {
   "display_name": "Python 3",
   "language": "python",
   "name": "python3"
  },
  "language_info": {
   "codemirror_mode": {
    "name": "ipython",
    "version": 3
   },
   "file_extension": ".py",
   "mimetype": "text/x-python",
   "name": "python",
   "nbconvert_exporter": "python",
   "pygments_lexer": "ipython3",
   "version": "3.5.1"
  }
 },
 "nbformat": 4,
 "nbformat_minor": 0
}
